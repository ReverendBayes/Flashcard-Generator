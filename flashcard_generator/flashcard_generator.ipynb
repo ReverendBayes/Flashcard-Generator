{
  "cells": [
    {
      "cell_type": "markdown",
      "metadata": {
        "id": "dG9KqIKxsj_6"
      },
      "source": [
        "# FlashGen Colab Notebook\n",
        "A single notebook to convert PDFs into Anki flashcards using GPT-4 Turbo."
      ],
      "id": "dG9KqIKxsj_6"
    },
    {
      "cell_type": "code",
      "execution_count": null,
      "metadata": {
        "id": "kbazuyigsj_7"
      },
      "outputs": [],
      "source": [
        "!pip install PyPDF2 genanki openai==0.28.0\n"
      ],
      "id": "kbazuyigsj_7"
    },
    {
      "cell_type": "code",
      "execution_count": null,
      "metadata": {
        "id": "dDbnX4yBsj_8"
      },
      "outputs": [],
      "source": [
        "import os\n",
        "import getpass   # if you’re hiding your key\n",
        "from google.colab import files\n",
        "\n",
        "from google.colab import drive, files\n",
        "# Option A: Mount Google Drive\n",
        "drive.mount('/content/drive')\n",
        "\n",
        "# Option B: Upload interactively\n",
        "uploaded = files.upload()\n",
        "pdf_path = list(uploaded.keys())[0]"
      ],
      "id": "dDbnX4yBsj_8"
    },
    {
      "cell_type": "code",
      "execution_count": null,
      "metadata": {
        "id": "ibJcJAoisj_8"
      },
      "outputs": [],
      "source": [
        "import os, json\n",
        "from PyPDF2 import PdfReader\n",
        "import openai, genanki\n",
        "\n",
        "\n",
        "def extract_text(pdf_path):\n",
        "    reader = PdfReader(pdf_path)\n",
        "    text = []\n",
        "    for page in reader.pages:\n",
        "        t = page.extract_text()\n",
        "        if t:\n",
        "            text.append(t)\n",
        "    return \"\\n\".join(text)\n",
        "\n",
        "def chunk_text(text, max_chars):\n",
        "    paragraphs = text.split('\\n\\n')\n",
        "    chunks, current = [], \"\"\n",
        "    for para in paragraphs:\n",
        "        if len(current) + len(para) + 2 <= max_chars:\n",
        "            current += para + \"\\n\\n\"\n",
        "        else:\n",
        "            if current:\n",
        "                chunks.append(current.strip())\n",
        "            if len(para) <= max_chars:\n",
        "                current = para + \"\\n\\n\"\n",
        "            else:\n",
        "                for i in range(0, len(para), max_chars):\n",
        "                    chunks.append(para[i:i+max_chars].strip())\n",
        "                current = \"\"\n",
        "    if current:\n",
        "        chunks.append(current.strip())\n",
        "    return chunks\n",
        "\n",
        "def generate_flashcards(chunks, model):\n",
        "    import re, json\n",
        "    flashcards = []\n",
        "    for i, chunk in enumerate(chunks, start=1):\n",
        "        messages = [\n",
        "            {\n",
        "                \"role\": \"system\",\n",
        "                \"content\": (\n",
        "                    \"You are a JSON-only generator. \"\n",
        "                    \"Respond *only* with a JSON array of objects, each with keys: \"\n",
        "                    \"question (string), answer (string), tags (list of strings), \"\n",
        "                    \"difficulty (easy|medium|hard). \"\n",
        "                    \"Do NOT include any other text, markdown, or commentary.\"\n",
        "                )\n",
        "            },\n",
        "            {\n",
        "                \"role\": \"user\",\n",
        "                \"content\": f\"Text:\\n{chunk}\"\n",
        "            }\n",
        "        ]\n",
        "        resp = openai.ChatCompletion.create(\n",
        "            model=model,\n",
        "            messages=messages,\n",
        "            temperature=0,\n",
        "            max_tokens=1000\n",
        "        )\n",
        "        raw = resp.choices[0].message.content.strip()\n",
        "\n",
        "        # first, try direct JSON parse\n",
        "        try:\n",
        "            cards = json.loads(raw)\n",
        "        except json.JSONDecodeError:\n",
        "            # fallback: extract the first [...] block\n",
        "            m = re.search(r'\\[.*\\]', raw, re.S)\n",
        "            if not m:\n",
        "                print(f\"Chunk {i}: no JSON array found. Raw start:\\n{raw[:200]!r}\\n\")\n",
        "                continue\n",
        "            fragment = m.group(0)\n",
        "            try:\n",
        "                cards = json.loads(fragment)\n",
        "            except json.JSONDecodeError:\n",
        "                print(f\"Chunk {i}: still invalid JSON after regex. Fragment start:\\n{fragment[:200]!r}\\n\")\n",
        "                continue\n",
        "\n",
        "        flashcards.extend(cards)\n",
        "\n",
        "    return flashcards\n",
        "\n",
        "\n",
        "def build_deck(flashcards, deck_name, deck_id):\n",
        "    deck = genanki.Deck(deck_id, deck_name)\n",
        "    model = genanki.Model(\n",
        "        1607392319, 'Simple Model',\n",
        "        fields=[{'name':'Question'},{'name':'Answer'},{'name':'Tags'},{'name':'Difficulty'}],\n",
        "        templates=[{\n",
        "            'name':'Card 1',\n",
        "            'qfmt':'{{Question}}<br><small>Tags: {{Tags}}</small>',\n",
        "            'afmt':'{{FrontSide}}<hr id=\"answer\">{{Answer}}<br><small>Difficulty: {{Difficulty}}</small>'\n",
        "        }]\n",
        "    )\n",
        "    for card in flashcards:\n",
        "        tags = ' '.join(card.get('tags', []))\n",
        "        diff = card.get('difficulty','')\n",
        "        note = genanki.Note(model=model, fields=[card['question'], card['answer'], tags, diff])\n",
        "        deck.add_note(note)\n",
        "    return deck\n"
      ],
      "id": "ibJcJAoisj_8"
    },
    {
      "cell_type": "code",
      "execution_count": null,
      "metadata": {
        "id": "0zraypEysj_8"
      },
      "outputs": [],
      "source": [
        "# === Configuration ===\n",
        "# If you mounted Drive, set pdf_path appropriately above.\n",
        "deck_name = 'My Flashcards'\n",
        "model = 'gpt-4-turbo'\n",
        "max_chars = 1000\n",
        "output = 'flashcards.apkg'\n",
        "openai.api_key = os.getenv('OPENAI_API_KEY') or input('OpenAI API Key: ')\n",
        "\n",
        "# === Run ===\n",
        "text = extract_text(pdf_path)\n",
        "chunks = chunk_text(text, max_chars)\n",
        "print(f'{len(chunks)} chunks')\n",
        "cards = generate_flashcards(chunks, model)\n",
        "print(f'{len(cards)} cards')\n",
        "deck = build_deck(cards, deck_name, abs(hash(deck_name)) % 10**12)\n",
        "genanki.Package(deck).write_to_file(output)\n",
        "print('Deck saved to', output)\n",
        "files.download(output)"
      ],
      "id": "0zraypEysj_8"
    },
    {
      "cell_type": "code",
      "source": [],
      "metadata": {
        "id": "Wc-A8SImtkXW"
      },
      "id": "Wc-A8SImtkXW",
      "execution_count": null,
      "outputs": []
    }
  ],
  "metadata": {
    "kernelspec": {
      "display_name": "Python 3",
      "name": "python3"
    },
    "language_info": {
      "name": "python"
    },
    "colab": {
      "private_outputs": true,
      "provenance": []
    }
  },
  "nbformat": 4,
  "nbformat_minor": 5
}